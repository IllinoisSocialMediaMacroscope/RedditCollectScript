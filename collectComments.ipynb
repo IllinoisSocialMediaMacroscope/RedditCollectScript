{
 "cells": [
  {
   "cell_type": "code",
   "execution_count": 1,
   "metadata": {},
   "outputs": [],
   "source": [
    "import praw\n",
    "import csv\n",
    "import writeToS3 as s3\n",
    "from os import listdir\n",
    "from os.path import isfile, join\n",
    "import pandas as pd"
   ]
  },
  {
   "cell_type": "code",
   "execution_count": 2,
   "metadata": {},
   "outputs": [
    {
     "name": "stdout",
     "output_type": "stream",
     "text": [
      "['Parenting\\\\Parenting_2008-10.csv', 'Parenting\\\\Parenting_2008-11.csv', 'Parenting\\\\Parenting_2008-12.csv', 'Parenting\\\\Parenting_2008-3.csv', 'Parenting\\\\Parenting_2008-4.csv', 'Parenting\\\\Parenting_2008-5.csv', 'Parenting\\\\Parenting_2008-6.csv', 'Parenting\\\\Parenting_2008-7.csv', 'Parenting\\\\Parenting_2008-8.csv', 'Parenting\\\\Parenting_2008-9.csv', 'Parenting\\\\Parenting_2009-1.csv', 'Parenting\\\\Parenting_2009-10.csv', 'Parenting\\\\Parenting_2009-11.csv', 'Parenting\\\\Parenting_2009-12.csv', 'Parenting\\\\Parenting_2009-2.csv', 'Parenting\\\\Parenting_2009-3.csv', 'Parenting\\\\Parenting_2009-4.csv', 'Parenting\\\\Parenting_2009-5.csv', 'Parenting\\\\Parenting_2009-6.csv', 'Parenting\\\\Parenting_2009-7.csv', 'Parenting\\\\Parenting_2009-8.csv', 'Parenting\\\\Parenting_2009-9.csv', 'Parenting\\\\Parenting_2010-1.csv', 'Parenting\\\\Parenting_2010-10.csv', 'Parenting\\\\Parenting_2010-11.csv', 'Parenting\\\\Parenting_2010-12.csv', 'Parenting\\\\Parenting_2010-2.csv', 'Parenting\\\\Parenting_2010-3.csv', 'Parenting\\\\Parenting_2010-4.csv', 'Parenting\\\\Parenting_2010-5.csv', 'Parenting\\\\Parenting_2010-6.csv', 'Parenting\\\\Parenting_2010-7.csv', 'Parenting\\\\Parenting_2010-8.csv', 'Parenting\\\\Parenting_2010-9.csv', 'Parenting\\\\Parenting_2011-1.csv', 'Parenting\\\\Parenting_2011-10.csv', 'Parenting\\\\Parenting_2011-11.csv', 'Parenting\\\\Parenting_2011-12.csv', 'Parenting\\\\Parenting_2011-2.csv', 'Parenting\\\\Parenting_2011-3.csv', 'Parenting\\\\Parenting_2011-4.csv', 'Parenting\\\\Parenting_2011-5.csv', 'Parenting\\\\Parenting_2011-6.csv', 'Parenting\\\\Parenting_2011-7.csv', 'Parenting\\\\Parenting_2011-8.csv', 'Parenting\\\\Parenting_2011-9.csv', 'Parenting\\\\Parenting_2012-1.csv', 'Parenting\\\\Parenting_2012-10.csv', 'Parenting\\\\Parenting_2012-11.csv', 'Parenting\\\\Parenting_2012-12.csv', 'Parenting\\\\Parenting_2012-2.csv', 'Parenting\\\\Parenting_2012-3.csv', 'Parenting\\\\Parenting_2012-4.csv', 'Parenting\\\\Parenting_2012-5.csv', 'Parenting\\\\Parenting_2012-6.csv', 'Parenting\\\\Parenting_2012-7.csv', 'Parenting\\\\Parenting_2012-8.csv', 'Parenting\\\\Parenting_2012-9.csv', 'Parenting\\\\Parenting_2013-1.csv', 'Parenting\\\\Parenting_2013-10.csv', 'Parenting\\\\Parenting_2013-11.csv', 'Parenting\\\\Parenting_2013-12.csv', 'Parenting\\\\Parenting_2013-2.csv', 'Parenting\\\\Parenting_2013-3.csv', 'Parenting\\\\Parenting_2013-4.csv', 'Parenting\\\\Parenting_2013-5.csv', 'Parenting\\\\Parenting_2013-6.csv', 'Parenting\\\\Parenting_2013-7.csv', 'Parenting\\\\Parenting_2013-8.csv', 'Parenting\\\\Parenting_2013-9.csv', 'Parenting\\\\Parenting_2014-1.csv', 'Parenting\\\\Parenting_2014-10.csv', 'Parenting\\\\Parenting_2014-11.csv', 'Parenting\\\\Parenting_2014-12.csv', 'Parenting\\\\Parenting_2014-2.csv', 'Parenting\\\\Parenting_2014-3.csv', 'Parenting\\\\Parenting_2014-4.csv', 'Parenting\\\\Parenting_2014-5.csv', 'Parenting\\\\Parenting_2014-6.csv', 'Parenting\\\\Parenting_2014-7.csv', 'Parenting\\\\Parenting_2014-8.csv', 'Parenting\\\\Parenting_2014-9.csv', 'Parenting\\\\Parenting_2015-1.csv', 'Parenting\\\\Parenting_2015-10.csv', 'Parenting\\\\Parenting_2015-11.csv', 'Parenting\\\\Parenting_2015-12.csv', 'Parenting\\\\Parenting_2015-2.csv', 'Parenting\\\\Parenting_2015-3.csv', 'Parenting\\\\Parenting_2015-4.csv', 'Parenting\\\\Parenting_2015-5.csv', 'Parenting\\\\Parenting_2015-6.csv', 'Parenting\\\\Parenting_2015-7.csv', 'Parenting\\\\Parenting_2015-8.csv', 'Parenting\\\\Parenting_2015-9.csv', 'Parenting\\\\Parenting_2016-1.csv', 'Parenting\\\\Parenting_2016-10.csv', 'Parenting\\\\Parenting_2016-11.csv', 'Parenting\\\\Parenting_2016-12.csv', 'Parenting\\\\Parenting_2016-2.csv', 'Parenting\\\\Parenting_2016-3.csv', 'Parenting\\\\Parenting_2016-4.csv', 'Parenting\\\\Parenting_2016-5.csv', 'Parenting\\\\Parenting_2016-6.csv', 'Parenting\\\\Parenting_2016-7.csv', 'Parenting\\\\Parenting_2016-8.csv', 'Parenting\\\\Parenting_2016-9.csv', 'Parenting\\\\Parenting_2017-1.csv', 'Parenting\\\\Parenting_2017-10.csv', 'Parenting\\\\Parenting_2017-11.csv', 'Parenting\\\\Parenting_2017-12.csv', 'Parenting\\\\Parenting_2017-2.csv', 'Parenting\\\\Parenting_2017-3.csv', 'Parenting\\\\Parenting_2017-4.csv', 'Parenting\\\\Parenting_2017-5.csv', 'Parenting\\\\Parenting_2017-6.csv', 'Parenting\\\\Parenting_2017-7.csv', 'Parenting\\\\Parenting_2017-8.csv', 'Parenting\\\\Parenting_2017-9.csv', 'Parenting\\\\Parenting_2018-1.csv', 'Parenting\\\\Parenting_2018-2.csv']\n"
     ]
    }
   ],
   "source": [
    "files = [join('Parenting', f) for f in listdir('Parenting') if isfile(join('Parenting', f))]\n",
    "print(files)"
   ]
  },
  {
   "cell_type": "code",
   "execution_count": 3,
   "metadata": {},
   "outputs": [
    {
     "name": "stdout",
     "output_type": "stream",
     "text": [
      "Version 5.2.0 of praw is outdated. Version 5.3.0 was released Sunday December 17, 2017.\n"
     ]
    }
   ],
   "source": [
    "reddit = praw.Reddit(user_agent='collect all data in the subreddit',\n",
    "                     client_id='your client id', client_secret='your client secret')"
   ]
  },
  {
   "cell_type": "code",
   "execution_count": 4,
   "metadata": {
    "scrolled": false
   },
   "outputs": [],
   "source": [
    "for f in files[:1]:\n",
    "    df = pd.read_csv(f)\n",
    "    ids = df['id'].dropna().astype('str').tolist()\n",
    "    \n",
    "    for id in ids:\n",
    "        submission = reddit.submission(id=id)\n",
    "        submission.comments.replace_more(limit=None)\n",
    "        comment_queue = submission.comments[:]  # Seed with top-level\n",
    "        comments_no_order = [['author','body','created_utc','id','link_id',\n",
    "                        'parent_id', 'score', 'subreddit_display_name','subreddit_name_prefixed','subreddit_id']]\n",
    "        \n",
    "        while comment_queue:\n",
    "            comment = comment_queue.pop(0)\n",
    "            comments_no_order.append([str(comment.author),\n",
    "                                    comment.body, comment.created_utc, comment.id, comment.link_id,\n",
    "                                    comment.parent_id, comment.score, comment.subreddit.display_name, \n",
    "                                    comment.subreddit_name_prefixed, comment.subreddit_id])\n",
    "            comment_queue.extend(comment.replies)\n",
    "            \n",
    "        # save to csv\n",
    "        with open('Comment/Parenting/' + id + '.csv', 'w', newline=\"\", encoding='utf-8') as f:\n",
    "            writer = csv.writer(f, delimiter=',')\n",
    "            writer.writerows(comments_no_order)\n",
    "            \n",
    "        # push to s3 bucket\n",
    "        s3.upload('Comment/Parenting/', 'Comment/Parenting/', id+'.csv')"
   ]
  },
  {
   "cell_type": "code",
   "execution_count": null,
   "metadata": {
    "collapsed": true
   },
   "outputs": [],
   "source": []
  }
 ],
 "metadata": {
  "kernelspec": {
   "display_name": "Python 3",
   "language": "python",
   "name": "python3"
  },
  "language_info": {
   "codemirror_mode": {
    "name": "ipython",
    "version": 3
   },
   "file_extension": ".py",
   "mimetype": "text/x-python",
   "name": "python",
   "nbconvert_exporter": "python",
   "pygments_lexer": "ipython3",
   "version": "3.6.1"
  }
 },
 "nbformat": 4,
 "nbformat_minor": 2
}
