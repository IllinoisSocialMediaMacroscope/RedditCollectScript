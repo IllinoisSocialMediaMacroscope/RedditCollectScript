{
 "cells": [
  {
   "cell_type": "markdown",
   "metadata": {},
   "source": [
    "## Collect all submissions within a subreddit"
   ]
  },
  {
   "cell_type": "code",
   "execution_count": 28,
   "metadata": {
    "collapsed": true
   },
   "outputs": [],
   "source": [
    "import datetime\n",
    "import praw\n",
    "import csv"
   ]
  },
  {
   "cell_type": "markdown",
   "metadata": {},
   "source": [
    "### convert datestring to Epoch unix time"
   ]
  },
  {
   "cell_type": "code",
   "execution_count": 4,
   "metadata": {
    "collapsed": true
   },
   "outputs": [],
   "source": [
    "def epoch_converter(day, month, year):\n",
    "    return int(datetime.datetime(year,month,day,0,0).timestamp())"
   ]
  },
  {
   "cell_type": "markdown",
   "metadata": {},
   "source": [
    "### config Reddit"
   ]
  },
  {
   "cell_type": "code",
   "execution_count": 8,
   "metadata": {},
   "outputs": [
    {
     "name": "stdout",
     "output_type": "stream",
     "text": [
      "Version 5.2.0 of praw is outdated. Version 5.3.0 was released Sunday December 17, 2017.\n"
     ]
    }
   ],
   "source": [
    "reddit = praw.Reddit(user_agent='collect all data in the subreddit',\n",
    "                     client_id='your client id', client_secret='your client secret')"
   ]
  },
  {
   "cell_type": "markdown",
   "metadata": {},
   "source": [
    "### set the begining and end (1 year for now)"
   ]
  },
  {
   "cell_type": "code",
   "execution_count": 31,
   "metadata": {},
   "outputs": [
    {
     "name": "stdout",
     "output_type": "stream",
     "text": [
      "1483250400 1485928800\n"
     ]
    }
   ],
   "source": [
    "start_date = epoch_converter(day=1,month=1,year=2017)\n",
    "end_date = epoch_converter(day=1,month=2,year=2017)\n",
    "print(start_date, end_date)"
   ]
  },
  {
   "cell_type": "markdown",
   "metadata": {},
   "source": [
    "### set subreddit name"
   ]
  },
  {
   "cell_type": "code",
   "execution_count": 32,
   "metadata": {
    "collapsed": true
   },
   "outputs": [],
   "source": [
    "subreddit = reddit.subreddit('Parenting')"
   ]
  },
  {
   "cell_type": "markdown",
   "metadata": {},
   "source": [
    "### collecting"
   ]
  },
  {
   "cell_type": "code",
   "execution_count": 33,
   "metadata": {
    "collapsed": true
   },
   "outputs": [],
   "source": [
    "total_submissions = []\n",
    "for s in subreddit.submissions(start_date, end_date):\n",
    "    total_submissions.append(s)"
   ]
  },
  {
   "cell_type": "code",
   "execution_count": 34,
   "metadata": {},
   "outputs": [
    {
     "name": "stdout",
     "output_type": "stream",
     "text": [
      "955\n"
     ]
    }
   ],
   "source": [
    "print(len(total_submissions))"
   ]
  },
  {
   "cell_type": "markdown",
   "metadata": {},
   "source": [
    "### save to csv with a name convention: subredditname_yyyy_mm_dd.csv (starting date)"
   ]
  },
  {
   "cell_type": "code",
   "execution_count": 45,
   "metadata": {
    "collapsed": true
   },
   "outputs": [],
   "source": [
    "fields = ['approved_at_utc', 'approved_by', 'archived', 'author', 'author_flair_css_class', 'author_flair_text', \n",
    "              'banned_at_utc', 'banned_by', 'brand_safe', 'can_gild', 'can_mod_post', 'clicked', 'comment_limit',\n",
    "              'comment_sort', 'contest_mode', 'created', 'created_utc', 'distinguished', 'domain','downs', \n",
    "              'edited', 'fullname', 'gilded',\n",
    " 'hidden', 'hide_score', 'id', 'is_crosspostable', 'is_reddit_media_domain', 'is_self',\n",
    " 'is_video', 'likes', 'link_flair_css_class', 'link_flair_text', 'locked', 'media', 'mod_note',\n",
    " 'mod_reason_by', 'mod_reason_title', 'mod_reports', 'name', 'num_comments', 'num_crossposts', 'num_reports', 'over_18',\n",
    " 'parent_whitelist_status', 'permalink', 'pinned', 'quarantine', 'removal_reason', 'report_reasons',\n",
    " 'save', 'score', 'secure_media', 'secure_media_embed', 'selftext', 'shortlink', 'spoiler',\n",
    " 'stickied', 'subreddit', 'subreddit_id', 'subreddit_name_prefixed', 'subreddit_type', 'suggested_sort', 'thumbnail', \n",
    " 'title', 'unhide', 'unsave', 'ups', 'url', 'user_reports',\n",
    " 'view_count', 'visited', 'whitelist_status']"
   ]
  },
  {
   "cell_type": "code",
   "execution_count": 37,
   "metadata": {
    "scrolled": false
   },
   "outputs": [
    {
     "name": "stdout",
     "output_type": "stream",
     "text": [
      "Parenting_20170101.csv is saved in current directory\n"
     ]
    }
   ],
   "source": [
    "content = [fields] # header\n",
    "for s in total_submissions:\n",
    "    row = []\n",
    "    for field in fields:\n",
    "        row.append(str(s.__getattribute__(field)))\n",
    "    content.append(row)\n",
    "    \n",
    "with open('Parenting_20170101.csv', \"w\", newline='', encoding='utf-8') as f:\n",
    "    writer = csv.writer(f)\n",
    "    writer.writerows(content)\n",
    "        \n",
    "print('Parenting_20170101.csv is saved in current directory')    "
   ]
  },
  {
   "cell_type": "markdown",
   "metadata": {},
   "source": [
    "### function"
   ]
  },
  {
   "cell_type": "code",
   "execution_count": 76,
   "metadata": {
    "collapsed": true
   },
   "outputs": [],
   "source": [
    "def collect_subreddit(subreddit_name, start_date, end_date, filename, client_id, client_secret):\n",
    "    reddit = praw.Reddit(user_agent='collect all data in the subreddit',\n",
    "                     client_id=client_id, client_secret=client_secret)\n",
    "    subreddit = reddit.subreddit(subreddit_name)\n",
    "    \n",
    "    fields = ['approved_at_utc', 'approved_by', 'archived', 'author', 'author_flair_css_class', 'author_flair_text', \n",
    "              'banned_at_utc', 'banned_by', 'brand_safe', 'can_gild', 'can_mod_post', 'clicked', 'comment_limit',\n",
    "              'comment_sort', 'contest_mode', 'created', 'created_utc', 'distinguished', 'domain','downs', \n",
    "              'edited', 'fullname', 'gilded',\n",
    " 'hidden', 'hide_score', 'id', 'is_crosspostable', 'is_reddit_media_domain', 'is_self',\n",
    " 'is_video', 'likes', 'link_flair_css_class', 'link_flair_text', 'locked', 'media', 'mod_note',\n",
    " 'mod_reason_by', 'mod_reason_title', 'mod_reports', 'name', 'num_comments', 'num_crossposts', 'num_reports', 'over_18',\n",
    " 'parent_whitelist_status', 'permalink', 'pinned', 'quarantine', 'removal_reason', 'report_reasons',\n",
    " 'save', 'score', 'secure_media', 'secure_media_embed', 'selftext', 'shortlink', 'spoiler',\n",
    " 'stickied', 'subreddit', 'subreddit_id', 'subreddit_name_prefixed', 'subreddit_type', 'suggested_sort', 'thumbnail', \n",
    " 'title', 'unhide', 'unsave', 'ups', 'url', 'user_reports',\n",
    " 'view_count', 'visited', 'whitelist_status']\n",
    "    \n",
    "    content = [fields]\n",
    "    \n",
    "    for s in subreddit.submissions(start_date, end_date):\n",
    "        row = []\n",
    "        for field in fields:\n",
    "            row.append(str(s.__getattribute__(field)))\n",
    "        content.append(row)\n",
    "    \n",
    "    with open(filename, \"w\", newline='', encoding='utf-8') as f:\n",
    "        writer = csv.writer(f)\n",
    "        writer.writerows(content)\n",
    "        \n",
    "    print(filename + ' is saved in current directory')    "
   ]
  },
  {
   "cell_type": "code",
   "execution_count": 79,
   "metadata": {
    "scrolled": false
   },
   "outputs": [
    {
     "name": "stdout",
     "output_type": "stream",
     "text": [
      "kiddiekitchen/kiddiekitchen_2005-1.csv is saved in current directory\n",
      "kiddiekitchen/kiddiekitchen_2005-2.csv is saved in current directory\n",
      "kiddiekitchen/kiddiekitchen_2005-3.csv is saved in current directory\n",
      "kiddiekitchen/kiddiekitchen_2005-4.csv is saved in current directory\n",
      "kiddiekitchen/kiddiekitchen_2005-5.csv is saved in current directory\n",
      "kiddiekitchen/kiddiekitchen_2005-6.csv is saved in current directory\n",
      "kiddiekitchen/kiddiekitchen_2005-7.csv is saved in current directory\n",
      "kiddiekitchen/kiddiekitchen_2005-8.csv is saved in current directory\n",
      "kiddiekitchen/kiddiekitchen_2005-9.csv is saved in current directory\n",
      "kiddiekitchen/kiddiekitchen_2005-10.csv is saved in current directory\n",
      "kiddiekitchen/kiddiekitchen_2005-11.csv is saved in current directory\n",
      "kiddiekitchen/kiddiekitchen_2006-1.csv is saved in current directory\n",
      "kiddiekitchen/kiddiekitchen_2006-2.csv is saved in current directory\n",
      "kiddiekitchen/kiddiekitchen_2006-3.csv is saved in current directory\n",
      "kiddiekitchen/kiddiekitchen_2006-4.csv is saved in current directory\n",
      "kiddiekitchen/kiddiekitchen_2006-5.csv is saved in current directory\n",
      "kiddiekitchen/kiddiekitchen_2006-6.csv is saved in current directory\n",
      "kiddiekitchen/kiddiekitchen_2006-7.csv is saved in current directory\n",
      "kiddiekitchen/kiddiekitchen_2006-8.csv is saved in current directory\n",
      "kiddiekitchen/kiddiekitchen_2006-9.csv is saved in current directory\n",
      "kiddiekitchen/kiddiekitchen_2006-10.csv is saved in current directory\n",
      "kiddiekitchen/kiddiekitchen_2006-11.csv is saved in current directory\n",
      "kiddiekitchen/kiddiekitchen_2007-1.csv is saved in current directory\n",
      "kiddiekitchen/kiddiekitchen_2007-2.csv is saved in current directory\n",
      "kiddiekitchen/kiddiekitchen_2007-3.csv is saved in current directory\n",
      "kiddiekitchen/kiddiekitchen_2007-4.csv is saved in current directory\n",
      "kiddiekitchen/kiddiekitchen_2007-5.csv is saved in current directory\n",
      "kiddiekitchen/kiddiekitchen_2007-6.csv is saved in current directory\n",
      "kiddiekitchen/kiddiekitchen_2007-7.csv is saved in current directory\n",
      "kiddiekitchen/kiddiekitchen_2007-8.csv is saved in current directory\n",
      "kiddiekitchen/kiddiekitchen_2007-9.csv is saved in current directory\n",
      "kiddiekitchen/kiddiekitchen_2007-10.csv is saved in current directory\n",
      "kiddiekitchen/kiddiekitchen_2007-11.csv is saved in current directory\n",
      "kiddiekitchen/kiddiekitchen_2008-1.csv is saved in current directory\n",
      "kiddiekitchen/kiddiekitchen_2008-2.csv is saved in current directory\n",
      "kiddiekitchen/kiddiekitchen_2008-3.csv is saved in current directory\n",
      "kiddiekitchen/kiddiekitchen_2008-4.csv is saved in current directory\n",
      "kiddiekitchen/kiddiekitchen_2008-5.csv is saved in current directory\n",
      "kiddiekitchen/kiddiekitchen_2008-6.csv is saved in current directory\n",
      "kiddiekitchen/kiddiekitchen_2008-7.csv is saved in current directory\n",
      "kiddiekitchen/kiddiekitchen_2008-8.csv is saved in current directory\n",
      "kiddiekitchen/kiddiekitchen_2008-9.csv is saved in current directory\n",
      "kiddiekitchen/kiddiekitchen_2008-10.csv is saved in current directory\n",
      "kiddiekitchen/kiddiekitchen_2008-11.csv is saved in current directory\n",
      "kiddiekitchen/kiddiekitchen_2009-1.csv is saved in current directory\n",
      "kiddiekitchen/kiddiekitchen_2009-2.csv is saved in current directory\n",
      "kiddiekitchen/kiddiekitchen_2009-3.csv is saved in current directory\n",
      "kiddiekitchen/kiddiekitchen_2009-4.csv is saved in current directory\n",
      "kiddiekitchen/kiddiekitchen_2009-5.csv is saved in current directory\n",
      "kiddiekitchen/kiddiekitchen_2009-6.csv is saved in current directory\n",
      "kiddiekitchen/kiddiekitchen_2009-7.csv is saved in current directory\n",
      "kiddiekitchen/kiddiekitchen_2009-8.csv is saved in current directory\n",
      "kiddiekitchen/kiddiekitchen_2009-9.csv is saved in current directory\n",
      "kiddiekitchen/kiddiekitchen_2009-10.csv is saved in current directory\n",
      "kiddiekitchen/kiddiekitchen_2009-11.csv is saved in current directory\n",
      "kiddiekitchen/kiddiekitchen_2010-1.csv is saved in current directory\n",
      "kiddiekitchen/kiddiekitchen_2010-2.csv is saved in current directory\n",
      "kiddiekitchen/kiddiekitchen_2010-3.csv is saved in current directory\n",
      "kiddiekitchen/kiddiekitchen_2010-4.csv is saved in current directory\n",
      "kiddiekitchen/kiddiekitchen_2010-5.csv is saved in current directory\n",
      "kiddiekitchen/kiddiekitchen_2010-6.csv is saved in current directory\n",
      "kiddiekitchen/kiddiekitchen_2010-7.csv is saved in current directory\n",
      "kiddiekitchen/kiddiekitchen_2010-8.csv is saved in current directory\n",
      "kiddiekitchen/kiddiekitchen_2010-9.csv is saved in current directory\n",
      "kiddiekitchen/kiddiekitchen_2010-10.csv is saved in current directory\n",
      "kiddiekitchen/kiddiekitchen_2010-11.csv is saved in current directory\n",
      "kiddiekitchen/kiddiekitchen_2011-1.csv is saved in current directory\n",
      "kiddiekitchen/kiddiekitchen_2011-2.csv is saved in current directory\n",
      "kiddiekitchen/kiddiekitchen_2011-3.csv is saved in current directory\n",
      "kiddiekitchen/kiddiekitchen_2011-4.csv is saved in current directory\n",
      "kiddiekitchen/kiddiekitchen_2011-5.csv is saved in current directory\n",
      "kiddiekitchen/kiddiekitchen_2011-6.csv is saved in current directory\n",
      "kiddiekitchen/kiddiekitchen_2011-7.csv is saved in current directory\n",
      "kiddiekitchen/kiddiekitchen_2011-8.csv is saved in current directory\n",
      "kiddiekitchen/kiddiekitchen_2011-9.csv is saved in current directory\n",
      "kiddiekitchen/kiddiekitchen_2011-10.csv is saved in current directory\n",
      "kiddiekitchen/kiddiekitchen_2011-11.csv is saved in current directory\n",
      "kiddiekitchen/kiddiekitchen_2012-1.csv is saved in current directory\n",
      "kiddiekitchen/kiddiekitchen_2012-2.csv is saved in current directory\n",
      "kiddiekitchen/kiddiekitchen_2012-3.csv is saved in current directory\n",
      "kiddiekitchen/kiddiekitchen_2012-4.csv is saved in current directory\n",
      "kiddiekitchen/kiddiekitchen_2012-5.csv is saved in current directory\n",
      "kiddiekitchen/kiddiekitchen_2012-6.csv is saved in current directory\n",
      "kiddiekitchen/kiddiekitchen_2012-7.csv is saved in current directory\n",
      "kiddiekitchen/kiddiekitchen_2012-8.csv is saved in current directory\n",
      "kiddiekitchen/kiddiekitchen_2012-9.csv is saved in current directory\n",
      "kiddiekitchen/kiddiekitchen_2012-10.csv is saved in current directory\n",
      "kiddiekitchen/kiddiekitchen_2012-11.csv is saved in current directory\n",
      "kiddiekitchen/kiddiekitchen_2013-1.csv is saved in current directory\n",
      "kiddiekitchen/kiddiekitchen_2013-2.csv is saved in current directory\n",
      "kiddiekitchen/kiddiekitchen_2013-3.csv is saved in current directory\n",
      "kiddiekitchen/kiddiekitchen_2013-4.csv is saved in current directory\n",
      "kiddiekitchen/kiddiekitchen_2013-5.csv is saved in current directory\n",
      "kiddiekitchen/kiddiekitchen_2013-6.csv is saved in current directory\n",
      "kiddiekitchen/kiddiekitchen_2013-7.csv is saved in current directory\n",
      "kiddiekitchen/kiddiekitchen_2013-8.csv is saved in current directory\n",
      "kiddiekitchen/kiddiekitchen_2013-9.csv is saved in current directory\n",
      "kiddiekitchen/kiddiekitchen_2013-10.csv is saved in current directory\n",
      "kiddiekitchen/kiddiekitchen_2013-11.csv is saved in current directory\n",
      "kiddiekitchen/kiddiekitchen_2014-1.csv is saved in current directory\n",
      "kiddiekitchen/kiddiekitchen_2014-2.csv is saved in current directory\n",
      "kiddiekitchen/kiddiekitchen_2014-3.csv is saved in current directory\n",
      "kiddiekitchen/kiddiekitchen_2014-4.csv is saved in current directory\n",
      "kiddiekitchen/kiddiekitchen_2014-5.csv is saved in current directory\n",
      "kiddiekitchen/kiddiekitchen_2014-6.csv is saved in current directory\n",
      "kiddiekitchen/kiddiekitchen_2014-7.csv is saved in current directory\n",
      "kiddiekitchen/kiddiekitchen_2014-8.csv is saved in current directory\n",
      "kiddiekitchen/kiddiekitchen_2014-9.csv is saved in current directory\n",
      "kiddiekitchen/kiddiekitchen_2014-10.csv is saved in current directory\n",
      "kiddiekitchen/kiddiekitchen_2014-11.csv is saved in current directory\n",
      "kiddiekitchen/kiddiekitchen_2015-1.csv is saved in current directory\n",
      "kiddiekitchen/kiddiekitchen_2015-2.csv is saved in current directory\n",
      "kiddiekitchen/kiddiekitchen_2015-3.csv is saved in current directory\n",
      "kiddiekitchen/kiddiekitchen_2015-4.csv is saved in current directory\n",
      "kiddiekitchen/kiddiekitchen_2015-5.csv is saved in current directory\n",
      "kiddiekitchen/kiddiekitchen_2015-6.csv is saved in current directory\n",
      "kiddiekitchen/kiddiekitchen_2015-7.csv is saved in current directory\n",
      "kiddiekitchen/kiddiekitchen_2015-8.csv is saved in current directory\n",
      "kiddiekitchen/kiddiekitchen_2015-9.csv is saved in current directory\n"
     ]
    },
    {
     "name": "stdout",
     "output_type": "stream",
     "text": [
      "kiddiekitchen/kiddiekitchen_2015-10.csv is saved in current directory\n",
      "kiddiekitchen/kiddiekitchen_2015-11.csv is saved in current directory\n",
      "kiddiekitchen/kiddiekitchen_2016-1.csv is saved in current directory\n",
      "kiddiekitchen/kiddiekitchen_2016-2.csv is saved in current directory\n",
      "kiddiekitchen/kiddiekitchen_2016-3.csv is saved in current directory\n",
      "kiddiekitchen/kiddiekitchen_2016-4.csv is saved in current directory\n",
      "kiddiekitchen/kiddiekitchen_2016-5.csv is saved in current directory\n",
      "kiddiekitchen/kiddiekitchen_2016-6.csv is saved in current directory\n",
      "kiddiekitchen/kiddiekitchen_2016-7.csv is saved in current directory\n",
      "kiddiekitchen/kiddiekitchen_2016-8.csv is saved in current directory\n",
      "kiddiekitchen/kiddiekitchen_2016-9.csv is saved in current directory\n",
      "kiddiekitchen/kiddiekitchen_2016-10.csv is saved in current directory\n",
      "kiddiekitchen/kiddiekitchen_2016-11.csv is saved in current directory\n",
      "kiddiekitchen/kiddiekitchen_2017-1.csv is saved in current directory\n",
      "kiddiekitchen/kiddiekitchen_2017-2.csv is saved in current directory\n",
      "kiddiekitchen/kiddiekitchen_2017-3.csv is saved in current directory\n",
      "kiddiekitchen/kiddiekitchen_2017-4.csv is saved in current directory\n",
      "kiddiekitchen/kiddiekitchen_2017-5.csv is saved in current directory\n",
      "kiddiekitchen/kiddiekitchen_2017-6.csv is saved in current directory\n",
      "kiddiekitchen/kiddiekitchen_2017-7.csv is saved in current directory\n",
      "kiddiekitchen/kiddiekitchen_2017-8.csv is saved in current directory\n",
      "kiddiekitchen/kiddiekitchen_2017-9.csv is saved in current directory\n",
      "kiddiekitchen/kiddiekitchen_2017-10.csv is saved in current directory\n",
      "kiddiekitchen/kiddiekitchen_2017-11.csv is saved in current directory\n",
      "kiddiekitchen/kiddiekitchen_2018-1.csv is saved in current directory\n",
      "kiddiekitchen/kiddiekitchen_2018-2.csv is saved in current directory\n",
      "kiddiekitchen/kiddiekitchen_2018-3.csv is saved in current directory\n",
      "kiddiekitchen/kiddiekitchen_2018-4.csv is saved in current directory\n",
      "kiddiekitchen/kiddiekitchen_2018-5.csv is saved in current directory\n",
      "kiddiekitchen/kiddiekitchen_2018-6.csv is saved in current directory\n",
      "kiddiekitchen/kiddiekitchen_2018-7.csv is saved in current directory\n",
      "kiddiekitchen/kiddiekitchen_2018-8.csv is saved in current directory\n",
      "kiddiekitchen/kiddiekitchen_2018-9.csv is saved in current directory\n",
      "kiddiekitchen/kiddiekitchen_2018-10.csv is saved in current directory\n",
      "kiddiekitchen/kiddiekitchen_2018-11.csv is saved in current directory\n"
     ]
    }
   ],
   "source": [
    "client_id = 'your client id'\n",
    "client_secret = 'your client secret'\n",
    "subreddit_name = 'kiddiekitchen'\n",
    "\n",
    "for year in range(2005, 2019):\n",
    "    for month in range(1,12):\n",
    "        start_date = epoch_converter(day=1,month=month,year=year)\n",
    "        end_date = epoch_converter(day=1,month=month+1,year=year)\n",
    "\n",
    "        filename = subreddit_name + '/' + subreddit_name + '_' + str(year) + '-' + str(month) + '.csv'\n",
    "\n",
    "        collect_subreddit(subreddit_name, start_date, end_date, filename, client_id, client_secret)"
   ]
  },
  {
   "cell_type": "markdown",
   "metadata": {},
   "source": [
    "### for December every year"
   ]
  },
  {
   "cell_type": "code",
   "execution_count": 80,
   "metadata": {},
   "outputs": [
    {
     "name": "stdout",
     "output_type": "stream",
     "text": [
      "kiddiekitchen/kiddiekitchen_2007-12.csv is saved in current directory\n",
      "kiddiekitchen/kiddiekitchen_2008-12.csv is saved in current directory\n",
      "kiddiekitchen/kiddiekitchen_2009-12.csv is saved in current directory\n",
      "kiddiekitchen/kiddiekitchen_2010-12.csv is saved in current directory\n",
      "kiddiekitchen/kiddiekitchen_2011-12.csv is saved in current directory\n",
      "kiddiekitchen/kiddiekitchen_2012-12.csv is saved in current directory\n",
      "kiddiekitchen/kiddiekitchen_2013-12.csv is saved in current directory\n",
      "kiddiekitchen/kiddiekitchen_2014-12.csv is saved in current directory\n",
      "kiddiekitchen/kiddiekitchen_2015-12.csv is saved in current directory\n",
      "kiddiekitchen/kiddiekitchen_2016-12.csv is saved in current directory\n",
      "kiddiekitchen/kiddiekitchen_2017-12.csv is saved in current directory\n",
      "kiddiekitchen/kiddiekitchen_2018-12.csv is saved in current directory\n"
     ]
    }
   ],
   "source": [
    "for year in range(2007, 2019):\n",
    "    start_date = epoch_converter(day=1,month=12,year=year)\n",
    "    end_date = epoch_converter(day=1,month=1,year=year+1)\n",
    "\n",
    "    filename = subreddit_name + '/' + subreddit_name + '_' + str(year) + '-' + str(12) + '.csv'\n",
    "\n",
    "    collect_subreddit(subreddit_name, start_date, end_date, filename, client_id, client_secret)"
   ]
  },
  {
   "cell_type": "code",
   "execution_count": null,
   "metadata": {
    "collapsed": true
   },
   "outputs": [],
   "source": []
  }
 ],
 "metadata": {
  "kernelspec": {
   "display_name": "Python 3",
   "language": "python",
   "name": "python3"
  },
  "language_info": {
   "codemirror_mode": {
    "name": "ipython",
    "version": 3
   },
   "file_extension": ".py",
   "mimetype": "text/x-python",
   "name": "python",
   "nbconvert_exporter": "python",
   "pygments_lexer": "ipython3",
   "version": "3.6.1"
  }
 },
 "nbformat": 4,
 "nbformat_minor": 2
}
